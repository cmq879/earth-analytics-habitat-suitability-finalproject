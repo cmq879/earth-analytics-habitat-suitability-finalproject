{
 "cells": [
  {
   "cell_type": "markdown",
   "metadata": {},
   "source": [
    "This notebook is for downloading the MACA v2 metdata, harmonizing the different data arrays with different resolutions, and coding thresholds for suitability ratings to each of the layers. Additionally, a fuzzly logic model would be applied to designate each cell on a 0-1 continuous suitability scale for plotting and identification of more- and less-suitable areas under different climate change scenarios. \n",
    "\n",
    "Because I have not yet gotten to these steps, this notebook contains only initial pseudocode. "
   ]
  },
  {
   "cell_type": "code",
   "execution_count": null,
   "metadata": {},
   "outputs": [],
   "source": [
    "import os\n",
    "import pathlib\n",
    "import re\n",
    "import zipfile\n",
    "from io import BytesIO\n",
    "from glob import glob\n",
    "import requests\n",
    "\n",
    "import earthaccess\n",
    "import earthpy as et\n",
    "import numpy as np\n",
    "import pandas as pd\n",
    "import geopandas as gpd\n",
    "import holoviews as hv\n",
    "import hvplot.pandas\n",
    "import hvplot.xarray\n",
    "import matplotlib.pyplot as plt\n",
    "from math import floor, ceil\n",
    "\n",
    "import xarray as xr\n",
    "import rioxarray as rxr  #work with raster data\n",
    "from rioxarray.merge import merge_arrays # Merge rasters\n",
    "from rasterio.mask import mask\n",
    "import xrspatial # \n",
    "import warnings"
   ]
  },
  {
   "cell_type": "code",
   "execution_count": null,
   "metadata": {},
   "outputs": [],
   "source": [
    "# Maca v2 metdata download\n",
    "# I would define a df or a dictionary with each combination of GCM, time period, and climate variable:\n",
    "# The climate variables would be: Maximum temperature, mean temperature, and total precipitation\n",
    "#\n",
    "# I would select a single time period, 2060-2065. The GCM would be HadGEM2-ES365 from CMIP5. \n",
    "#\n",
    "\n",
    "# Define the url template\n",
    "maca_url_template = ( <format of filepath to .nc>\n",
    "\n",
    ")\n",
    "\n",
    "#Start an empty list for the urls\n",
    "maca_url_list = []\n",
    "\n",
    "# I would then accumulate all the data arrays covering \n",
    "# either of the forest gdfs. \n",
    "#for-loop to read in each .nc file\n",
    "maca_da = xr.open_dataset(maca_url_template)\n",
    "maca_url_list.append(maca_da)\n",
    "maca_das\n",
    "\n",
    "# Plot the data arrays\n",
    "#maca_das.plot()"
   ]
  },
  {
   "cell_type": "code",
   "execution_count": null,
   "metadata": {},
   "outputs": [],
   "source": [
    "# Convert MACA data to a data frame for aggregating\n",
    "\n",
    "\n",
    "# Aggregation/resampling step 1: Calculate annual measures from the monthly data by resampling\n",
    "\n",
    "\n",
    "# For example, compute averages for mean/max temperature and sum for precipitation\n",
    "\n",
    "# Agg/resampling step 2: Average the annual estimates across the 5-year temporal range ."
   ]
  },
  {
   "cell_type": "code",
   "execution_count": null,
   "metadata": {},
   "outputs": [],
   "source": [
    "# Necessary data checks go here. Review descriptive statistics for \n",
    "#\n",
    "#\n",
    "# Data visualization: Histograms for data checking"
   ]
  },
  {
   "cell_type": "code",
   "execution_count": null,
   "metadata": {},
   "outputs": [],
   "source": [
    "# Data Harmonization phase: All raster data needs standardized\n",
    "\n",
    "\n",
    "# Reproject the coarser raster data (MACA) to the rio.crs of the finer-scale data\n",
    "# \n",
    "\n",
    "# Get all data arrays: SRTM, POLARIS, and MACA to an aligned raster grid\n",
    "# \n",
    "\n",
    "# Combine the layers using rasterio\n"
   ]
  },
  {
   "cell_type": "code",
   "execution_count": null,
   "metadata": {},
   "outputs": [],
   "source": [
    "# Define suitability thresholds for all variables\n",
    "\n",
    "# Habitat suitability variables: Elevation, Soil pH, mean temp, max. temp, and \n",
    "#   total precipitation. \n",
    "#\n",
    "# Elevation: 2,000-7,000 Ft\n",
    "# Soil pH: ideal range 5.0 - 6.5\n",
    "#\n",
    "# Mean temperature: Average ann. max: 29C/84F; Avg ann mean: 7C/45F\n",
    "# Max temp: Abs ann max: 41C/106F (Schmidt & Shearer)\n",
    "# \n",
    "# Precipitation: Average ann. total precip: 710mm/28in up to 810mm in the southern part of its range. \n",
    "# Extreme precip range is between 460 mm (18in) and 1270mm (50 in)"
   ]
  },
  {
   "cell_type": "code",
   "execution_count": null,
   "metadata": {},
   "outputs": [],
   "source": [
    "# Code and run a suitability model using fuzzy logic\n",
    "# \n",
    "# I would divide the ranges of each of the habitat variables into scores where\n",
    "# a high score is given to the middle part of the distributions where the current\n",
    "# average/median conditions are. Scores would go down in increments as a given\n",
    "# value got farther away on either side of the optimal range. \n",
    "# For example, looking at precipitation, I would perhaps group 25 - 33 inches of rain\n",
    "# as the highest score, say 1.0. (I would allow more precipitation because this is generally\n",
    "# a good thing for trees.) Then 22-24 in and 34-35 in of annual precip would be 0.8, and so on. \n",
    "# Very low values of annual precip (<18in) would be scored very low. \n",
    "#\n",
    "# Multiply the scores for all the habitat variables for each cell"
   ]
  },
  {
   "cell_type": "code",
   "execution_count": null,
   "metadata": {},
   "outputs": [],
   "source": [
    "# Plot the new raster layer with the suitability scores, ranging 0.0-1.0.\n",
    "#\n",
    "# I would probably use hvplot to get an interactive plot, and choose a \n",
    "# colormap that would reflect suitability, maybe green-to-orange or green \n",
    "# to brown scale, with green representing higher suitability. \n",
    "#\n",
    "#"
   ]
  },
  {
   "cell_type": "markdown",
   "metadata": {},
   "source": [
    "After running the fuzzy logic model and multiplying across the layers, I would plot the suitability maps for my two national forests. As well, I would interpret the spatial variation in the scores across each grassland. I would even consider having a third comparison layer, and that would be using back-casted climate estimates for a recent time period, say 2010-2015 if available. Then I would have a baseline suitability map for these two forests, and this would help to interpret how much change there was in the climate change projections for 2060-65 (fifty years later)."
   ]
  },
  {
   "cell_type": "markdown",
   "metadata": {},
   "source": [
    "\n",
    "### References\n",
    "\n",
    "Schmidt, W.C., Shearer, R.C. \"Western Larch\". United States Forest Service. Retrieved from: https://www.srs.fs.usda.gov/pubs/misc/ag_654/volume_1/larix/occidentalis.htm\n",
    "\n",
    "Oregeon Forest Resources Institute. \"Western Larch\". Retrieved from: https://oregonforests.org/forest-types-tree-guide/tree-variety/western-larch."
   ]
  }
 ],
 "metadata": {
  "kernelspec": {
   "display_name": "earth-analytics-python",
   "language": "python",
   "name": "python3"
  },
  "language_info": {
   "codemirror_mode": {
    "name": "ipython",
    "version": 3
   },
   "file_extension": ".py",
   "mimetype": "text/x-python",
   "name": "python",
   "nbconvert_exporter": "python",
   "pygments_lexer": "ipython3",
   "version": "3.11.10"
  }
 },
 "nbformat": 4,
 "nbformat_minor": 2
}
